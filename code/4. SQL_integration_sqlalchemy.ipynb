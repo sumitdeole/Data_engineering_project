{
 "cells": [
  {
   "cell_type": "markdown",
   "metadata": {},
   "source": [
    "### Create a unique identifier for city column using SQL\n",
    "In this exercise, I will perform the following steps:\n",
    "- Establish a connection link with the SQL DB in MySQL workbench\n",
    "- Move the cities dataframe (columns: \"City\" and \"Elevation\") to SQL DB uniquely identifying the city names (table column \"city_id\")\n",
    "- Read the SQL table in python and merge city_id back into the webscraped dataframe\n",
    "- Move data to the following SQL tables:\n",
    "    1. Countries (with columns: \"city_id\", \"Country\", \"country_2c\")\n",
    "    2. Populations (with columns: \"city_id\", \"Population\")\n",
    "    3. Coordinates (with columns: \"city_id\", \"latitude\", \"longitude\")"
   ]
  },
  {
   "cell_type": "markdown",
   "metadata": {},
   "source": [
    "#### Import packages"
   ]
  },
  {
   "cell_type": "code",
   "execution_count": 1,
   "metadata": {},
   "outputs": [],
   "source": [
    "import pandas as pd\n",
    "import sqlalchemy\n",
    "\n",
    "# Get the api key\n",
    "from keys import MySQL_bootcamp"
   ]
  },
  {
   "cell_type": "markdown",
   "metadata": {},
   "source": [
    "#### Create the connection link"
   ]
  },
  {
   "cell_type": "code",
   "execution_count": 2,
   "metadata": {},
   "outputs": [],
   "source": [
    "schema = \"gans_cities\"\n",
    "host = \"127.0.0.1\"\n",
    "user = \"root\"\n",
    "password = MySQL_bootcamp\n",
    "port = 3306\n",
    "\n",
    "connection_string = f'mysql+pymysql://{user}:{password}@{host}:{port}/{schema}'"
   ]
  },
  {
   "cell_type": "markdown",
   "metadata": {},
   "source": [
    "#### Import the merged dataframe"
   ]
  },
  {
   "cell_type": "code",
   "execution_count": 3,
   "metadata": {},
   "outputs": [],
   "source": [
    "df_cities_ws_cleaned = pd.read_csv(\"data/df_cities_ws_cleaned.csv\")"
   ]
  },
  {
   "cell_type": "markdown",
   "metadata": {},
   "source": [
    "#### Create a unique identifier for the city using SQL"
   ]
  },
  {
   "cell_type": "code",
   "execution_count": 4,
   "metadata": {},
   "outputs": [
    {
     "data": {
      "text/plain": [
       "20"
      ]
     },
     "execution_count": 4,
     "metadata": {},
     "output_type": "execute_result"
    }
   ],
   "source": [
    "df = df_cities_ws_cleaned.copy()\n",
    "df_city = df[[\"City\", \"Elevation (in m)\"]]\n",
    "df_city=df_city.rename(columns= {\"Elevation (in m)\": \"Elevation\"})\n",
    "\n",
    "df_city.to_sql('cities',\n",
    "                  if_exists='append',\n",
    "                  con=connection_string,\n",
    "                  index=False)"
   ]
  },
  {
   "cell_type": "markdown",
   "metadata": {},
   "source": [
    "#### Import SQL table and merge city_id in the original dataframe"
   ]
  },
  {
   "cell_type": "code",
   "execution_count": 5,
   "metadata": {},
   "outputs": [
    {
     "data": {
      "text/html": [
       "<div>\n",
       "<style scoped>\n",
       "    .dataframe tbody tr th:only-of-type {\n",
       "        vertical-align: middle;\n",
       "    }\n",
       "\n",
       "    .dataframe tbody tr th {\n",
       "        vertical-align: top;\n",
       "    }\n",
       "\n",
       "    .dataframe thead th {\n",
       "        text-align: right;\n",
       "    }\n",
       "</style>\n",
       "<table border=\"1\" class=\"dataframe\">\n",
       "  <thead>\n",
       "    <tr style=\"text-align: right;\">\n",
       "      <th></th>\n",
       "      <th>City</th>\n",
       "      <th>country_2c</th>\n",
       "      <th>latitude</th>\n",
       "      <th>longitude</th>\n",
       "      <th>is_capital</th>\n",
       "      <th>Country</th>\n",
       "      <th>Elevation (in m)</th>\n",
       "      <th>Population</th>\n",
       "      <th>city_id</th>\n",
       "      <th>Elevation</th>\n",
       "    </tr>\n",
       "  </thead>\n",
       "  <tbody>\n",
       "    <tr>\n",
       "      <th>0</th>\n",
       "      <td>Berlin</td>\n",
       "      <td>DE</td>\n",
       "      <td>52.5167</td>\n",
       "      <td>13.3833</td>\n",
       "      <td>True</td>\n",
       "      <td>Germany</td>\n",
       "      <td>34.0</td>\n",
       "      <td>3576873</td>\n",
       "      <td>1</td>\n",
       "      <td>34</td>\n",
       "    </tr>\n",
       "    <tr>\n",
       "      <th>1</th>\n",
       "      <td>Hamburg</td>\n",
       "      <td>DE</td>\n",
       "      <td>53.5500</td>\n",
       "      <td>10.0000</td>\n",
       "      <td>False</td>\n",
       "      <td>Germany</td>\n",
       "      <td>23.0</td>\n",
       "      <td>1945532</td>\n",
       "      <td>2</td>\n",
       "      <td>23</td>\n",
       "    </tr>\n",
       "    <tr>\n",
       "      <th>2</th>\n",
       "      <td>Munich</td>\n",
       "      <td>DE</td>\n",
       "      <td>48.1372</td>\n",
       "      <td>11.5755</td>\n",
       "      <td>False</td>\n",
       "      <td>Germany</td>\n",
       "      <td>520.0</td>\n",
       "      <td>1512491</td>\n",
       "      <td>3</td>\n",
       "      <td>520</td>\n",
       "    </tr>\n",
       "    <tr>\n",
       "      <th>3</th>\n",
       "      <td>Cologne</td>\n",
       "      <td>DE</td>\n",
       "      <td>50.9422</td>\n",
       "      <td>6.9578</td>\n",
       "      <td>False</td>\n",
       "      <td>Germany</td>\n",
       "      <td>37.0</td>\n",
       "      <td>1073096</td>\n",
       "      <td>4</td>\n",
       "      <td>37</td>\n",
       "    </tr>\n",
       "    <tr>\n",
       "      <th>4</th>\n",
       "      <td>Paris</td>\n",
       "      <td>FR</td>\n",
       "      <td>48.8566</td>\n",
       "      <td>2.3522</td>\n",
       "      <td>True</td>\n",
       "      <td>France</td>\n",
       "      <td>35.0</td>\n",
       "      <td>2102650</td>\n",
       "      <td>5</td>\n",
       "      <td>35</td>\n",
       "    </tr>\n",
       "    <tr>\n",
       "      <th>5</th>\n",
       "      <td>Nice</td>\n",
       "      <td>FR</td>\n",
       "      <td>43.7034</td>\n",
       "      <td>7.2663</td>\n",
       "      <td>False</td>\n",
       "      <td>France</td>\n",
       "      <td>10.0</td>\n",
       "      <td>348085</td>\n",
       "      <td>6</td>\n",
       "      <td>10</td>\n",
       "    </tr>\n",
       "    <tr>\n",
       "      <th>6</th>\n",
       "      <td>Rome</td>\n",
       "      <td>IT</td>\n",
       "      <td>41.8931</td>\n",
       "      <td>12.4828</td>\n",
       "      <td>True</td>\n",
       "      <td>Italy</td>\n",
       "      <td>21.0</td>\n",
       "      <td>2860009</td>\n",
       "      <td>7</td>\n",
       "      <td>21</td>\n",
       "    </tr>\n",
       "    <tr>\n",
       "      <th>7</th>\n",
       "      <td>Milan</td>\n",
       "      <td>IT</td>\n",
       "      <td>45.4669</td>\n",
       "      <td>9.1900</td>\n",
       "      <td>False</td>\n",
       "      <td>Italy</td>\n",
       "      <td>120.0</td>\n",
       "      <td>1371498</td>\n",
       "      <td>8</td>\n",
       "      <td>120</td>\n",
       "    </tr>\n",
       "    <tr>\n",
       "      <th>8</th>\n",
       "      <td>Warsaw</td>\n",
       "      <td>PL</td>\n",
       "      <td>52.2167</td>\n",
       "      <td>21.0333</td>\n",
       "      <td>True</td>\n",
       "      <td>Poland</td>\n",
       "      <td>100.0</td>\n",
       "      <td>1863056</td>\n",
       "      <td>9</td>\n",
       "      <td>100</td>\n",
       "    </tr>\n",
       "    <tr>\n",
       "      <th>9</th>\n",
       "      <td>Barcelona</td>\n",
       "      <td>ES</td>\n",
       "      <td>41.3825</td>\n",
       "      <td>2.1769</td>\n",
       "      <td>False</td>\n",
       "      <td>Spain</td>\n",
       "      <td>12.0</td>\n",
       "      <td>1620343</td>\n",
       "      <td>10</td>\n",
       "      <td>12</td>\n",
       "    </tr>\n",
       "    <tr>\n",
       "      <th>10</th>\n",
       "      <td>Madrid</td>\n",
       "      <td>ES</td>\n",
       "      <td>40.4189</td>\n",
       "      <td>-3.6919</td>\n",
       "      <td>True</td>\n",
       "      <td>Spain</td>\n",
       "      <td>650.0</td>\n",
       "      <td>3223334</td>\n",
       "      <td>11</td>\n",
       "      <td>650</td>\n",
       "    </tr>\n",
       "    <tr>\n",
       "      <th>11</th>\n",
       "      <td>Sevilla</td>\n",
       "      <td>ES</td>\n",
       "      <td>37.3828</td>\n",
       "      <td>-5.9731</td>\n",
       "      <td>False</td>\n",
       "      <td>Spain</td>\n",
       "      <td>7.0</td>\n",
       "      <td>684234</td>\n",
       "      <td>12</td>\n",
       "      <td>7</td>\n",
       "    </tr>\n",
       "    <tr>\n",
       "      <th>12</th>\n",
       "      <td>London</td>\n",
       "      <td>GB</td>\n",
       "      <td>51.5072</td>\n",
       "      <td>-0.1275</td>\n",
       "      <td>True</td>\n",
       "      <td>England</td>\n",
       "      <td>11.0</td>\n",
       "      <td>8799800</td>\n",
       "      <td>13</td>\n",
       "      <td>11</td>\n",
       "    </tr>\n",
       "    <tr>\n",
       "      <th>13</th>\n",
       "      <td>Birmingham</td>\n",
       "      <td>GB</td>\n",
       "      <td>52.4800</td>\n",
       "      <td>-1.9025</td>\n",
       "      <td>False</td>\n",
       "      <td>England</td>\n",
       "      <td>140.0</td>\n",
       "      <td>1142494</td>\n",
       "      <td>14</td>\n",
       "      <td>140</td>\n",
       "    </tr>\n",
       "    <tr>\n",
       "      <th>14</th>\n",
       "      <td>Manchester</td>\n",
       "      <td>GB</td>\n",
       "      <td>53.4794</td>\n",
       "      <td>-2.2453</td>\n",
       "      <td>False</td>\n",
       "      <td>England</td>\n",
       "      <td>38.0</td>\n",
       "      <td>549853</td>\n",
       "      <td>15</td>\n",
       "      <td>38</td>\n",
       "    </tr>\n",
       "    <tr>\n",
       "      <th>15</th>\n",
       "      <td>Leeds</td>\n",
       "      <td>GB</td>\n",
       "      <td>53.7997</td>\n",
       "      <td>-1.5492</td>\n",
       "      <td>False</td>\n",
       "      <td>England</td>\n",
       "      <td>10.0</td>\n",
       "      <td>536280</td>\n",
       "      <td>16</td>\n",
       "      <td>10</td>\n",
       "    </tr>\n",
       "    <tr>\n",
       "      <th>16</th>\n",
       "      <td>Newcastle</td>\n",
       "      <td>GB</td>\n",
       "      <td>55.0077</td>\n",
       "      <td>-1.6578</td>\n",
       "      <td>False</td>\n",
       "      <td>England</td>\n",
       "      <td>30.0</td>\n",
       "      <td>168873</td>\n",
       "      <td>17</td>\n",
       "      <td>30</td>\n",
       "    </tr>\n",
       "    <tr>\n",
       "      <th>17</th>\n",
       "      <td>The Hague</td>\n",
       "      <td>NL</td>\n",
       "      <td>52.0800</td>\n",
       "      <td>4.2700</td>\n",
       "      <td>True</td>\n",
       "      <td>Netherlands</td>\n",
       "      <td>1.0</td>\n",
       "      <td>549163</td>\n",
       "      <td>18</td>\n",
       "      <td>1</td>\n",
       "    </tr>\n",
       "    <tr>\n",
       "      <th>18</th>\n",
       "      <td>Amsterdam</td>\n",
       "      <td>NL</td>\n",
       "      <td>52.3500</td>\n",
       "      <td>4.9166</td>\n",
       "      <td>True</td>\n",
       "      <td>Netherlands</td>\n",
       "      <td>-2.0</td>\n",
       "      <td>921402</td>\n",
       "      <td>19</td>\n",
       "      <td>-2</td>\n",
       "    </tr>\n",
       "    <tr>\n",
       "      <th>19</th>\n",
       "      <td>Rotterdam</td>\n",
       "      <td>NL</td>\n",
       "      <td>51.9200</td>\n",
       "      <td>4.4800</td>\n",
       "      <td>False</td>\n",
       "      <td>Netherlands</td>\n",
       "      <td>2.0</td>\n",
       "      <td>664311</td>\n",
       "      <td>20</td>\n",
       "      <td>2</td>\n",
       "    </tr>\n",
       "  </tbody>\n",
       "</table>\n",
       "</div>"
      ],
      "text/plain": [
       "          City country_2c  latitude  longitude  is_capital       Country  \\\n",
       "0       Berlin         DE   52.5167    13.3833        True       Germany   \n",
       "1      Hamburg         DE   53.5500    10.0000       False       Germany   \n",
       "2       Munich         DE   48.1372    11.5755       False       Germany   \n",
       "3      Cologne         DE   50.9422     6.9578       False       Germany   \n",
       "4        Paris         FR   48.8566     2.3522        True        France   \n",
       "5         Nice         FR   43.7034     7.2663       False        France   \n",
       "6         Rome         IT   41.8931    12.4828        True         Italy   \n",
       "7        Milan         IT   45.4669     9.1900       False         Italy   \n",
       "8       Warsaw         PL   52.2167    21.0333        True        Poland   \n",
       "9    Barcelona         ES   41.3825     2.1769       False         Spain   \n",
       "10      Madrid         ES   40.4189    -3.6919        True         Spain   \n",
       "11     Sevilla         ES   37.3828    -5.9731       False         Spain   \n",
       "12      London         GB   51.5072    -0.1275        True       England   \n",
       "13  Birmingham         GB   52.4800    -1.9025       False       England   \n",
       "14  Manchester         GB   53.4794    -2.2453       False       England   \n",
       "15       Leeds         GB   53.7997    -1.5492       False       England   \n",
       "16   Newcastle         GB   55.0077    -1.6578       False       England   \n",
       "17   The Hague         NL   52.0800     4.2700        True   Netherlands   \n",
       "18   Amsterdam         NL   52.3500     4.9166        True   Netherlands   \n",
       "19   Rotterdam         NL   51.9200     4.4800       False   Netherlands   \n",
       "\n",
       "    Elevation (in m)  Population  city_id  Elevation  \n",
       "0               34.0     3576873        1         34  \n",
       "1               23.0     1945532        2         23  \n",
       "2              520.0     1512491        3        520  \n",
       "3               37.0     1073096        4         37  \n",
       "4               35.0     2102650        5         35  \n",
       "5               10.0      348085        6         10  \n",
       "6               21.0     2860009        7         21  \n",
       "7              120.0     1371498        8        120  \n",
       "8              100.0     1863056        9        100  \n",
       "9               12.0     1620343       10         12  \n",
       "10             650.0     3223334       11        650  \n",
       "11               7.0      684234       12          7  \n",
       "12              11.0     8799800       13         11  \n",
       "13             140.0     1142494       14        140  \n",
       "14              38.0      549853       15         38  \n",
       "15              10.0      536280       16         10  \n",
       "16              30.0      168873       17         30  \n",
       "17               1.0      549163       18          1  \n",
       "18              -2.0      921402       19         -2  \n",
       "19               2.0      664311       20          2  "
      ]
     },
     "execution_count": 5,
     "metadata": {},
     "output_type": "execute_result"
    }
   ],
   "source": [
    "df_city_sql = pd.read_sql(\"cities\", con=connection_string)\n",
    "df_sql_city_id = df.merge(df_city_sql, on = \"City\", how=\"left\")\n",
    "df_sql_city_id"
   ]
  },
  {
   "cell_type": "markdown",
   "metadata": {},
   "source": [
    "#### Create countries table in SQL"
   ]
  },
  {
   "cell_type": "code",
   "execution_count": 6,
   "metadata": {},
   "outputs": [
    {
     "data": {
      "text/plain": [
       "20"
      ]
     },
     "execution_count": 6,
     "metadata": {},
     "output_type": "execute_result"
    }
   ],
   "source": [
    "df_country = df_sql_city_id[[\"city_id\", \"country_2c\", \"Country\"]]\n",
    "\n",
    "df_country.to_sql('countries',\n",
    "                  if_exists='append',\n",
    "                  con=connection_string,\n",
    "                  index=False)"
   ]
  },
  {
   "cell_type": "markdown",
   "metadata": {},
   "source": [
    "#### Create a population table in SQL"
   ]
  },
  {
   "cell_type": "code",
   "execution_count": 7,
   "metadata": {},
   "outputs": [
    {
     "data": {
      "text/plain": [
       "20"
      ]
     },
     "execution_count": 7,
     "metadata": {},
     "output_type": "execute_result"
    }
   ],
   "source": [
    "df_pop = df_sql_city_id[[\"city_id\", \"Population\"]]\n",
    "df_pop = df_pop.copy()\n",
    "df_pop[\"Year_retrieved\"] = 2024\n",
    "\n",
    "df_pop.to_sql('populations',\n",
    "                  if_exists='append',\n",
    "                  con=connection_string,\n",
    "                  index=False)"
   ]
  },
  {
   "cell_type": "markdown",
   "metadata": {},
   "source": [
    "#### Create a coordinates table"
   ]
  },
  {
   "cell_type": "code",
   "execution_count": 8,
   "metadata": {},
   "outputs": [
    {
     "data": {
      "text/plain": [
       "20"
      ]
     },
     "execution_count": 8,
     "metadata": {},
     "output_type": "execute_result"
    }
   ],
   "source": [
    "df_coord = df_sql_city_id[[\"city_id\", \"latitude\", \"longitude\"]]\n",
    "df_coord.to_sql('coordinates',\n",
    "                  if_exists='append',\n",
    "                  con=connection_string,\n",
    "                  index=False)"
   ]
  },
  {
   "cell_type": "markdown",
   "metadata": {},
   "source": [
    "#### Save dataframe as csv"
   ]
  },
  {
   "cell_type": "code",
   "execution_count": 9,
   "metadata": {},
   "outputs": [],
   "source": [
    "df_sql_city_id.to_csv(\"data/df_sql_city_id.csv\", sep=',', index=False, encoding='utf-8')"
   ]
  }
 ],
 "metadata": {
  "kernelspec": {
   "display_name": "Python 3",
   "language": "python",
   "name": "python3"
  },
  "language_info": {
   "codemirror_mode": {
    "name": "ipython",
    "version": 3
   },
   "file_extension": ".py",
   "mimetype": "text/x-python",
   "name": "python",
   "nbconvert_exporter": "python",
   "pygments_lexer": "ipython3",
   "version": "3.10.13"
  }
 },
 "nbformat": 4,
 "nbformat_minor": 2
}
